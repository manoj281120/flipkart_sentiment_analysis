{
 "cells": [
  {
   "cell_type": "markdown",
   "id": "5bf08346",
   "metadata": {},
   "source": [
    "# EDA on Flipkart reviews for batminton dataset"
   ]
  },
  {
   "cell_type": "code",
   "execution_count": 1,
   "id": "670fcc26",
   "metadata": {},
   "outputs": [
    {
     "data": {
      "text/html": [
       "<div>\n",
       "<style scoped>\n",
       "    .dataframe tbody tr th:only-of-type {\n",
       "        vertical-align: middle;\n",
       "    }\n",
       "\n",
       "    .dataframe tbody tr th {\n",
       "        vertical-align: top;\n",
       "    }\n",
       "\n",
       "    .dataframe thead th {\n",
       "        text-align: right;\n",
       "    }\n",
       "</style>\n",
       "<table border=\"1\" class=\"dataframe\">\n",
       "  <thead>\n",
       "    <tr style=\"text-align: right;\">\n",
       "      <th></th>\n",
       "      <th>Reviewer Name</th>\n",
       "      <th>Review Title</th>\n",
       "      <th>Place of Review</th>\n",
       "      <th>Up Votes</th>\n",
       "      <th>Down Votes</th>\n",
       "      <th>Month</th>\n",
       "      <th>Review text</th>\n",
       "      <th>Ratings</th>\n",
       "    </tr>\n",
       "  </thead>\n",
       "  <tbody>\n",
       "    <tr>\n",
       "      <th>0</th>\n",
       "      <td>Kamal Suresh</td>\n",
       "      <td>Nice product</td>\n",
       "      <td>Certified Buyer, Chirakkal</td>\n",
       "      <td>889.0</td>\n",
       "      <td>64.0</td>\n",
       "      <td>Feb 2021</td>\n",
       "      <td>Nice product, good quality, but price is now r...</td>\n",
       "      <td>4</td>\n",
       "    </tr>\n",
       "    <tr>\n",
       "      <th>1</th>\n",
       "      <td>Flipkart Customer</td>\n",
       "      <td>Don't waste your money</td>\n",
       "      <td>Certified Buyer, Hyderabad</td>\n",
       "      <td>109.0</td>\n",
       "      <td>6.0</td>\n",
       "      <td>Feb 2021</td>\n",
       "      <td>They didn't supplied Yonex Mavis 350. Outside ...</td>\n",
       "      <td>1</td>\n",
       "    </tr>\n",
       "    <tr>\n",
       "      <th>2</th>\n",
       "      <td>A. S. Raja Srinivasan</td>\n",
       "      <td>Did not meet expectations</td>\n",
       "      <td>Certified Buyer, Dharmapuri</td>\n",
       "      <td>42.0</td>\n",
       "      <td>3.0</td>\n",
       "      <td>Apr 2021</td>\n",
       "      <td>Worst product. Damaged shuttlecocks packed in ...</td>\n",
       "      <td>1</td>\n",
       "    </tr>\n",
       "    <tr>\n",
       "      <th>3</th>\n",
       "      <td>Suresh Narayanasamy</td>\n",
       "      <td>Fair</td>\n",
       "      <td>Certified Buyer, Chennai</td>\n",
       "      <td>25.0</td>\n",
       "      <td>1.0</td>\n",
       "      <td>NaN</td>\n",
       "      <td>Quite O. K. , but nowadays  the quality of the...</td>\n",
       "      <td>3</td>\n",
       "    </tr>\n",
       "    <tr>\n",
       "      <th>4</th>\n",
       "      <td>ASHIK P A</td>\n",
       "      <td>Over priced</td>\n",
       "      <td>NaN</td>\n",
       "      <td>147.0</td>\n",
       "      <td>24.0</td>\n",
       "      <td>Apr 2016</td>\n",
       "      <td>Over pricedJust â?¹620 ..from retailer.I didn'...</td>\n",
       "      <td>1</td>\n",
       "    </tr>\n",
       "  </tbody>\n",
       "</table>\n",
       "</div>"
      ],
      "text/plain": [
       "            Reviewer Name               Review Title  \\\n",
       "0            Kamal Suresh               Nice product   \n",
       "1       Flipkart Customer     Don't waste your money   \n",
       "2  A. S. Raja Srinivasan   Did not meet expectations   \n",
       "3     Suresh Narayanasamy                       Fair   \n",
       "4               ASHIK P A                Over priced   \n",
       "\n",
       "               Place of Review  Up Votes  Down Votes     Month  \\\n",
       "0   Certified Buyer, Chirakkal     889.0        64.0  Feb 2021   \n",
       "1   Certified Buyer, Hyderabad     109.0         6.0  Feb 2021   \n",
       "2  Certified Buyer, Dharmapuri      42.0         3.0  Apr 2021   \n",
       "3     Certified Buyer, Chennai      25.0         1.0       NaN   \n",
       "4                          NaN     147.0        24.0  Apr 2016   \n",
       "\n",
       "                                         Review text  Ratings  \n",
       "0  Nice product, good quality, but price is now r...        4  \n",
       "1  They didn't supplied Yonex Mavis 350. Outside ...        1  \n",
       "2  Worst product. Damaged shuttlecocks packed in ...        1  \n",
       "3  Quite O. K. , but nowadays  the quality of the...        3  \n",
       "4  Over pricedJust â?¹620 ..from retailer.I didn'...        1  "
      ]
     },
     "execution_count": 1,
     "metadata": {},
     "output_type": "execute_result"
    }
   ],
   "source": [
    "import numpy as np\n",
    "import pandas as pd\n",
    "\n",
    "PATH = r\"D:\\ML\\Innomatics_Research_Lab_Internship\\task7_flipkart_reviews\\reviews_badminton\\data.csv\"\n",
    "\n",
    "df = pd.read_csv(PATH)\n",
    "dataFrame=df\n",
    "\n",
    "df.head()"
   ]
  },
  {
   "cell_type": "code",
   "execution_count": 2,
   "id": "f46de460",
   "metadata": {},
   "outputs": [
    {
     "data": {
      "text/html": [
       "<div>\n",
       "<style scoped>\n",
       "    .dataframe tbody tr th:only-of-type {\n",
       "        vertical-align: middle;\n",
       "    }\n",
       "\n",
       "    .dataframe tbody tr th {\n",
       "        vertical-align: top;\n",
       "    }\n",
       "\n",
       "    .dataframe thead th {\n",
       "        text-align: right;\n",
       "    }\n",
       "</style>\n",
       "<table border=\"1\" class=\"dataframe\">\n",
       "  <thead>\n",
       "    <tr style=\"text-align: right;\">\n",
       "      <th></th>\n",
       "      <th>Reviewer Name</th>\n",
       "      <th>Review Title</th>\n",
       "      <th>Place of Review</th>\n",
       "      <th>Up Votes</th>\n",
       "      <th>Down Votes</th>\n",
       "      <th>Month</th>\n",
       "      <th>Review text</th>\n",
       "      <th>Ratings</th>\n",
       "    </tr>\n",
       "  </thead>\n",
       "  <tbody>\n",
       "    <tr>\n",
       "      <th>8513</th>\n",
       "      <td>NaN</td>\n",
       "      <td>NaN</td>\n",
       "      <td>NaN</td>\n",
       "      <td>NaN</td>\n",
       "      <td>NaN</td>\n",
       "      <td>NaN</td>\n",
       "      <td>NaN</td>\n",
       "      <td>5</td>\n",
       "    </tr>\n",
       "    <tr>\n",
       "      <th>8514</th>\n",
       "      <td>NaN</td>\n",
       "      <td>NaN</td>\n",
       "      <td>NaN</td>\n",
       "      <td>NaN</td>\n",
       "      <td>NaN</td>\n",
       "      <td>NaN</td>\n",
       "      <td>NaN</td>\n",
       "      <td>2</td>\n",
       "    </tr>\n",
       "    <tr>\n",
       "      <th>8515</th>\n",
       "      <td>NaN</td>\n",
       "      <td>NaN</td>\n",
       "      <td>NaN</td>\n",
       "      <td>NaN</td>\n",
       "      <td>NaN</td>\n",
       "      <td>NaN</td>\n",
       "      <td>NaN</td>\n",
       "      <td>4</td>\n",
       "    </tr>\n",
       "    <tr>\n",
       "      <th>8516</th>\n",
       "      <td>NaN</td>\n",
       "      <td>NaN</td>\n",
       "      <td>NaN</td>\n",
       "      <td>NaN</td>\n",
       "      <td>NaN</td>\n",
       "      <td>NaN</td>\n",
       "      <td>NaN</td>\n",
       "      <td>1</td>\n",
       "    </tr>\n",
       "    <tr>\n",
       "      <th>8517</th>\n",
       "      <td>NaN</td>\n",
       "      <td>NaN</td>\n",
       "      <td>NaN</td>\n",
       "      <td>NaN</td>\n",
       "      <td>NaN</td>\n",
       "      <td>NaN</td>\n",
       "      <td>NaN</td>\n",
       "      <td>4</td>\n",
       "    </tr>\n",
       "  </tbody>\n",
       "</table>\n",
       "</div>"
      ],
      "text/plain": [
       "     Reviewer Name Review Title Place of Review  Up Votes  Down Votes Month  \\\n",
       "8513           NaN          NaN             NaN       NaN         NaN   NaN   \n",
       "8514           NaN          NaN             NaN       NaN         NaN   NaN   \n",
       "8515           NaN          NaN             NaN       NaN         NaN   NaN   \n",
       "8516           NaN          NaN             NaN       NaN         NaN   NaN   \n",
       "8517           NaN          NaN             NaN       NaN         NaN   NaN   \n",
       "\n",
       "     Review text  Ratings  \n",
       "8513         NaN        5  \n",
       "8514         NaN        2  \n",
       "8515         NaN        4  \n",
       "8516         NaN        1  \n",
       "8517         NaN        4  "
      ]
     },
     "execution_count": 2,
     "metadata": {},
     "output_type": "execute_result"
    }
   ],
   "source": [
    "df.tail()"
   ]
  },
  {
   "cell_type": "code",
   "execution_count": 3,
   "id": "080e03b5",
   "metadata": {},
   "outputs": [
    {
     "data": {
      "text/plain": [
       "(8518, 8)"
      ]
     },
     "execution_count": 3,
     "metadata": {},
     "output_type": "execute_result"
    }
   ],
   "source": [
    "df.shape"
   ]
  },
  {
   "cell_type": "code",
   "execution_count": 4,
   "id": "99834a34",
   "metadata": {},
   "outputs": [
    {
     "data": {
      "text/plain": [
       "Index(['Reviewer Name', 'Review Title', 'Place of Review', 'Up Votes',\n",
       "       'Down Votes', 'Month', 'Review text', 'Ratings'],\n",
       "      dtype='object')"
      ]
     },
     "execution_count": 4,
     "metadata": {},
     "output_type": "execute_result"
    }
   ],
   "source": [
    "df.columns"
   ]
  },
  {
   "cell_type": "code",
   "execution_count": 5,
   "id": "d878b902",
   "metadata": {},
   "outputs": [
    {
     "data": {
      "text/plain": [
       "<bound method NDFrame.describe of                Reviewer Name               Review Title  \\\n",
       "0               Kamal Suresh               Nice product   \n",
       "1          Flipkart Customer     Don't waste your money   \n",
       "2     A. S. Raja Srinivasan   Did not meet expectations   \n",
       "3        Suresh Narayanasamy                       Fair   \n",
       "4                  ASHIK P A                Over priced   \n",
       "...                      ...                        ...   \n",
       "8513                     NaN                        NaN   \n",
       "8514                     NaN                        NaN   \n",
       "8515                     NaN                        NaN   \n",
       "8516                     NaN                        NaN   \n",
       "8517                     NaN                        NaN   \n",
       "\n",
       "                  Place of Review  Up Votes  Down Votes     Month  \\\n",
       "0      Certified Buyer, Chirakkal     889.0        64.0  Feb 2021   \n",
       "1      Certified Buyer, Hyderabad     109.0         6.0  Feb 2021   \n",
       "2     Certified Buyer, Dharmapuri      42.0         3.0  Apr 2021   \n",
       "3        Certified Buyer, Chennai      25.0         1.0       NaN   \n",
       "4                             NaN     147.0        24.0  Apr 2016   \n",
       "...                           ...       ...         ...       ...   \n",
       "8513                          NaN       NaN         NaN       NaN   \n",
       "8514                          NaN       NaN         NaN       NaN   \n",
       "8515                          NaN       NaN         NaN       NaN   \n",
       "8516                          NaN       NaN         NaN       NaN   \n",
       "8517                          NaN       NaN         NaN       NaN   \n",
       "\n",
       "                                            Review text  Ratings  \n",
       "0     Nice product, good quality, but price is now r...        4  \n",
       "1     They didn't supplied Yonex Mavis 350. Outside ...        1  \n",
       "2     Worst product. Damaged shuttlecocks packed in ...        1  \n",
       "3     Quite O. K. , but nowadays  the quality of the...        3  \n",
       "4     Over pricedJust â?¹620 ..from retailer.I didn'...        1  \n",
       "...                                                 ...      ...  \n",
       "8513                                                NaN        5  \n",
       "8514                                                NaN        2  \n",
       "8515                                                NaN        4  \n",
       "8516                                                NaN        1  \n",
       "8517                                                NaN        4  \n",
       "\n",
       "[8518 rows x 8 columns]>"
      ]
     },
     "execution_count": 5,
     "metadata": {},
     "output_type": "execute_result"
    }
   ],
   "source": [
    "df.describe"
   ]
  },
  {
   "cell_type": "code",
   "execution_count": 6,
   "id": "26f9f4e9",
   "metadata": {},
   "outputs": [
    {
     "data": {
      "text/plain": [
       "Index(['Reviewer Name', 'Review Title', 'Place of Review', 'Up Votes',\n",
       "       'Down Votes', 'Month', 'Review text', 'Ratings'],\n",
       "      dtype='object')"
      ]
     },
     "execution_count": 6,
     "metadata": {},
     "output_type": "execute_result"
    }
   ],
   "source": [
    "#Renaming the Columns\n",
    "df.columns = df.columns.str.strip()\n",
    "\n",
    "df.columns"
   ]
  },
  {
   "cell_type": "code",
   "execution_count": 7,
   "id": "7f933430",
   "metadata": {},
   "outputs": [
    {
     "name": "stdout",
     "output_type": "stream",
     "text": [
      "<class 'pandas.core.frame.DataFrame'>\n",
      "RangeIndex: 8518 entries, 0 to 8517\n",
      "Data columns (total 8 columns):\n",
      " #   Column           Non-Null Count  Dtype  \n",
      "---  ------           --------------  -----  \n",
      " 0   Reviewer Name    8508 non-null   object \n",
      " 1   Review Title     8508 non-null   object \n",
      " 2   Place of Review  8468 non-null   object \n",
      " 3   Up Votes         8508 non-null   float64\n",
      " 4   Down Votes       8508 non-null   float64\n",
      " 5   Month            8053 non-null   object \n",
      " 6   Review text      8510 non-null   object \n",
      " 7   Ratings          8518 non-null   int64  \n",
      "dtypes: float64(2), int64(1), object(5)\n",
      "memory usage: 532.5+ KB\n"
     ]
    }
   ],
   "source": [
    "df.info()"
   ]
  },
  {
   "cell_type": "code",
   "execution_count": 8,
   "id": "349d62cb",
   "metadata": {},
   "outputs": [
    {
     "name": "stdout",
     "output_type": "stream",
     "text": [
      "Reviewer Name       10\n",
      "Review Title        10\n",
      "Place of Review     50\n",
      "Up Votes            10\n",
      "Down Votes          10\n",
      "Month              465\n",
      "Review text          8\n",
      "Ratings              0\n",
      "dtype: int64\n"
     ]
    }
   ],
   "source": [
    "# Check for missing values\n",
    "print(df.isnull().sum())"
   ]
  },
  {
   "cell_type": "markdown",
   "id": "406bc19a",
   "metadata": {},
   "source": [
    "# Handling missing / Null values"
   ]
  },
  {
   "cell_type": "code",
   "execution_count": 9,
   "id": "35fb6f0b",
   "metadata": {},
   "outputs": [],
   "source": [
    "df.fillna({'Reviewer Name': 'Anonymous', \n",
    "           'Review Title': 'No Title', \n",
    "           'Place of Review': 'Unknown', \n",
    "           'Up Votes': df['Up Votes'].median(), \n",
    "           'Down Votes': df['Down Votes'].median(), \n",
    "           'Month': 'Unknown'}, \n",
    "          inplace=True)\n"
   ]
  },
  {
   "cell_type": "code",
   "execution_count": 10,
   "id": "1ff345e0",
   "metadata": {},
   "outputs": [
    {
     "name": "stdout",
     "output_type": "stream",
     "text": [
      "Reviewer Name      0\n",
      "Review Title       0\n",
      "Place of Review    0\n",
      "Up Votes           0\n",
      "Down Votes         0\n",
      "Month              0\n",
      "Review text        8\n",
      "Ratings            0\n",
      "dtype: int64\n"
     ]
    }
   ],
   "source": [
    "# Check for missing values\n",
    "print(df.isnull().sum())"
   ]
  },
  {
   "cell_type": "code",
   "execution_count": 11,
   "id": "20f84da7",
   "metadata": {},
   "outputs": [
    {
     "data": {
      "text/html": [
       "<div>\n",
       "<style scoped>\n",
       "    .dataframe tbody tr th:only-of-type {\n",
       "        vertical-align: middle;\n",
       "    }\n",
       "\n",
       "    .dataframe tbody tr th {\n",
       "        vertical-align: top;\n",
       "    }\n",
       "\n",
       "    .dataframe thead th {\n",
       "        text-align: right;\n",
       "    }\n",
       "</style>\n",
       "<table border=\"1\" class=\"dataframe\">\n",
       "  <thead>\n",
       "    <tr style=\"text-align: right;\">\n",
       "      <th></th>\n",
       "      <th>Reviewer Name</th>\n",
       "      <th>Review Title</th>\n",
       "      <th>Place of Review</th>\n",
       "      <th>Up Votes</th>\n",
       "      <th>Down Votes</th>\n",
       "      <th>Month</th>\n",
       "      <th>Review text</th>\n",
       "      <th>Ratings</th>\n",
       "    </tr>\n",
       "  </thead>\n",
       "  <tbody>\n",
       "    <tr>\n",
       "      <th>8513</th>\n",
       "      <td>Anonymous</td>\n",
       "      <td>No Title</td>\n",
       "      <td>Unknown</td>\n",
       "      <td>0.0</td>\n",
       "      <td>0.0</td>\n",
       "      <td>Unknown</td>\n",
       "      <td>NaN</td>\n",
       "      <td>5</td>\n",
       "    </tr>\n",
       "    <tr>\n",
       "      <th>8514</th>\n",
       "      <td>Anonymous</td>\n",
       "      <td>No Title</td>\n",
       "      <td>Unknown</td>\n",
       "      <td>0.0</td>\n",
       "      <td>0.0</td>\n",
       "      <td>Unknown</td>\n",
       "      <td>NaN</td>\n",
       "      <td>2</td>\n",
       "    </tr>\n",
       "    <tr>\n",
       "      <th>8515</th>\n",
       "      <td>Anonymous</td>\n",
       "      <td>No Title</td>\n",
       "      <td>Unknown</td>\n",
       "      <td>0.0</td>\n",
       "      <td>0.0</td>\n",
       "      <td>Unknown</td>\n",
       "      <td>NaN</td>\n",
       "      <td>4</td>\n",
       "    </tr>\n",
       "    <tr>\n",
       "      <th>8516</th>\n",
       "      <td>Anonymous</td>\n",
       "      <td>No Title</td>\n",
       "      <td>Unknown</td>\n",
       "      <td>0.0</td>\n",
       "      <td>0.0</td>\n",
       "      <td>Unknown</td>\n",
       "      <td>NaN</td>\n",
       "      <td>1</td>\n",
       "    </tr>\n",
       "    <tr>\n",
       "      <th>8517</th>\n",
       "      <td>Anonymous</td>\n",
       "      <td>No Title</td>\n",
       "      <td>Unknown</td>\n",
       "      <td>0.0</td>\n",
       "      <td>0.0</td>\n",
       "      <td>Unknown</td>\n",
       "      <td>NaN</td>\n",
       "      <td>4</td>\n",
       "    </tr>\n",
       "  </tbody>\n",
       "</table>\n",
       "</div>"
      ],
      "text/plain": [
       "     Reviewer Name Review Title Place of Review  Up Votes  Down Votes  \\\n",
       "8513     Anonymous     No Title         Unknown       0.0         0.0   \n",
       "8514     Anonymous     No Title         Unknown       0.0         0.0   \n",
       "8515     Anonymous     No Title         Unknown       0.0         0.0   \n",
       "8516     Anonymous     No Title         Unknown       0.0         0.0   \n",
       "8517     Anonymous     No Title         Unknown       0.0         0.0   \n",
       "\n",
       "        Month Review text  Ratings  \n",
       "8513  Unknown         NaN        5  \n",
       "8514  Unknown         NaN        2  \n",
       "8515  Unknown         NaN        4  \n",
       "8516  Unknown         NaN        1  \n",
       "8517  Unknown         NaN        4  "
      ]
     },
     "execution_count": 11,
     "metadata": {},
     "output_type": "execute_result"
    }
   ],
   "source": [
    "df.tail()"
   ]
  },
  {
   "cell_type": "code",
   "execution_count": 12,
   "id": "a0b4797d",
   "metadata": {},
   "outputs": [],
   "source": [
    "# Convert 'Month' column to datetime data type\n",
    "df['Month'] = pd.to_datetime(df['Month'], errors='coerce')"
   ]
  },
  {
   "cell_type": "code",
   "execution_count": 13,
   "id": "fd6a79df",
   "metadata": {},
   "outputs": [],
   "source": [
    "# Convert 'Up Votes' and 'Down Votes' columns to integer data type\n",
    "df['Up Votes'] = df['Up Votes'].astype(int)\n",
    "df['Down Votes'] = df['Down Votes'].astype(int)"
   ]
  },
  {
   "cell_type": "code",
   "execution_count": 14,
   "id": "16bc25ec",
   "metadata": {},
   "outputs": [
    {
     "name": "stdout",
     "output_type": "stream",
     "text": [
      "Reviewer_Name              object\n",
      "Review_Title               object\n",
      "Place_of_Review            object\n",
      "Up_Votes                    int32\n",
      "Down_Votes                  int32\n",
      "Month              datetime64[ns]\n",
      "Review_text                object\n",
      "Ratings                     int64\n",
      "dtype: object\n",
      "Index(['Reviewer_Name', 'Review_Title', 'Place_of_Review', 'Up_Votes',\n",
      "       'Down_Votes', 'Month', 'Review_text', 'Ratings'],\n",
      "      dtype='object')\n"
     ]
    }
   ],
   "source": [
    "# Remove spaces from column names\n",
    "df.columns = df.columns.str.replace(' ', '_')\n",
    "\n",
    "# Check the updated data types and column names\n",
    "print(df.dtypes)\n",
    "print(df.columns)"
   ]
  },
  {
   "cell_type": "markdown",
   "id": "80312e60",
   "metadata": {},
   "source": [
    "# Summary Statistics"
   ]
  },
  {
   "cell_type": "code",
   "execution_count": 15,
   "id": "2e793faf",
   "metadata": {},
   "outputs": [
    {
     "name": "stdout",
     "output_type": "stream",
     "text": [
      "          Up_Votes   Down_Votes      Ratings\n",
      "count  8518.000000  8518.000000  8518.000000\n",
      "mean      0.390937     0.121625     4.181028\n",
      "std      11.607097     3.246117     1.262200\n",
      "min       0.000000     0.000000     1.000000\n",
      "25%       0.000000     0.000000     4.000000\n",
      "50%       0.000000     0.000000     5.000000\n",
      "75%       0.000000     0.000000     5.000000\n",
      "max     889.000000   219.000000     5.000000\n"
     ]
    }
   ],
   "source": [
    "print(df.describe())\n"
   ]
  },
  {
   "cell_type": "markdown",
   "id": "7da80e89",
   "metadata": {},
   "source": [
    "# Interpretation:\n",
    "The majority of reviews have zero up votes and down votes, as indicated by the 25th, 50th, and 75th percentiles.\n",
    "However, there are some outliers with a maximum of 889 up votes and 219 down votes.\n",
    "The ratings range from 1 to 5, with a mean rating of approximately 4.18, indicating generally positive sentiment among reviewers.\n",
    "These statistics provide valuable insights into the distribution and variability of up votes, down votes, and ratings among the reviews. They can guide further analysis and decision-making processes related to customer satisfaction and engagement with the product."
   ]
  },
  {
   "cell_type": "code",
   "execution_count": 16,
   "id": "bcfb0d13",
   "metadata": {},
   "outputs": [
    {
     "name": "stdout",
     "output_type": "stream",
     "text": [
      "5    5080\n",
      "4    1746\n",
      "1     769\n",
      "3     615\n",
      "2     308\n",
      "Name: Ratings, dtype: int64\n"
     ]
    }
   ],
   "source": [
    "# Distribution of ratings\n",
    "print(df['Ratings'].value_counts())"
   ]
  },
  {
   "cell_type": "markdown",
   "id": "83c889c1",
   "metadata": {},
   "source": [
    "# Data Vizualisation\n",
    "## distribution analysis"
   ]
  },
  {
   "cell_type": "code",
   "execution_count": 17,
   "id": "7a1cad21",
   "metadata": {},
   "outputs": [
    {
     "data": {
      "image/png": "[encoded data removed]",
      "text/plain": [
       "<Figure size 576x432 with 1 Axes>"
      ]
     },
     "metadata": {
      "needs_background": "light"
     },
     "output_type": "display_data"
    },
    {
     "data": {
      "image/png": "[encoded data removed]",
      "text/plain": [
       "<Figure size 720x432 with 1 Axes>"
      ]
     },
     "metadata": {
      "needs_background": "light"
     },
     "output_type": "display_data"
    }
   ],
   "source": [
    "import matplotlib.pyplot as plt\n",
    "import seaborn as sns\n",
    "\n",
    "# Histogram of Ratings\n",
    "plt.figure(figsize=(8, 6))\n",
    "sns.histplot(df['Ratings'], bins=5, kde=False)\n",
    "plt.title('Distribution of Ratings')\n",
    "plt.xlabel('Ratings')\n",
    "plt.ylabel('Frequency')\n",
    "plt.show()\n",
    "\n",
    "# Box plot of Up Votes and Down Votes\n",
    "plt.figure(figsize=(10, 6))\n",
    "sns.boxplot(data=df[['Up_Votes', 'Down_Votes']])\n",
    "plt.title('Box Plot of Up Votes and Down Votes')\n",
    "plt.ylabel('Number of Votes')\n",
    "plt.show()\n"
   ]
  },
  {
   "cell_type": "markdown",
   "id": "c8d8285b",
   "metadata": {},
   "source": [
    "# Analyzing the Relationship between Ratings and Engagement Metrics:"
   ]
  },
  {
   "cell_type": "code",
   "execution_count": 18,
   "id": "9bdb377d",
   "metadata": {},
   "outputs": [
    {
     "data": {
      "image/png": "[encoded data removed]",
      "text/plain": [
       "<Figure size 720x432 with 1 Axes>"
      ]
     },
     "metadata": {
      "needs_background": "light"
     },
     "output_type": "display_data"
    },
    {
     "data": {
      "image/png": "[encoded data removed]",
      "text/plain": [
       "<Figure size 720x432 with 1 Axes>"
      ]
     },
     "metadata": {
      "needs_background": "light"
     },
     "output_type": "display_data"
    }
   ],
   "source": [
    "import seaborn as sns\n",
    "\n",
    "# Scatter plot to visualize the relationship between Ratings and Up Votes\n",
    "plt.figure(figsize=(10, 6))\n",
    "sns.scatterplot(data=df, x='Ratings', y='Up_Votes')\n",
    "plt.title('Relationship between Ratings and Up Votes')\n",
    "plt.xlabel('Ratings')\n",
    "plt.ylabel('Up_Votes')\n",
    "plt.show()\n",
    "\n",
    "# Scatter plot to visualize the relationship between Ratings and Down Votes\n",
    "plt.figure(figsize=(10, 6))\n",
    "sns.scatterplot(data=df, x='Ratings', y='Down_Votes')\n",
    "plt.title('Relationship between Ratings and Down Votes')\n",
    "plt.xlabel('Ratings')\n",
    "plt.ylabel('Down Votes')\n",
    "plt.show()\n"
   ]
  },
  {
   "cell_type": "markdown",
   "id": "25f72dc7",
   "metadata": {},
   "source": [
    "# Categorical Variable analysis"
   ]
  },
  {
   "cell_type": "code",
   "execution_count": 19,
   "id": "9667af5b",
   "metadata": {},
   "outputs": [
    {
     "data": {
      "image/png": "[encoded data removed]",
      "text/plain": [
       "<Figure size 1080x648 with 1 Axes>"
      ]
     },
     "metadata": {
      "needs_background": "light"
     },
     "output_type": "display_data"
    }
   ],
   "source": [
    "plt.figure(figsize=(15, 9))\n",
    "df['Month'].value_counts().plot(kind='bar')\n",
    "plt.xlabel('Month')\n",
    "plt.ylabel('Frequency')\n",
    "plt.title('Distribution of Reviews by Month')\n",
    "plt.xticks(rotation=90)\n",
    "plt.show()\n"
   ]
  },
  {
   "cell_type": "markdown",
   "id": "86371731",
   "metadata": {},
   "source": [
    "# Sentiment Analysis on text data"
   ]
  },
  {
   "cell_type": "code",
   "execution_count": 20,
   "id": "ed64b096",
   "metadata": {},
   "outputs": [
    {
     "ename": "ModuleNotFoundError",
     "evalue": "No module named 'textblob'",
     "output_type": "error",
     "traceback": [
      "\u001b[1;31m---------------------------------------------------------------------------\u001b[0m",
      "\u001b[1;31mModuleNotFoundError\u001b[0m                       Traceback (most recent call last)",
      "\u001b[1;32m<ipython-input-20-554433ed357d>\u001b[0m in \u001b[0;36m<module>\u001b[1;34m\u001b[0m\n\u001b[0;32m      1\u001b[0m \u001b[1;31m# Perform sentiment analysis using TextBlob\u001b[0m\u001b[1;33m\u001b[0m\u001b[1;33m\u001b[0m\u001b[1;33m\u001b[0m\u001b[0m\n\u001b[1;32m----> 2\u001b[1;33m \u001b[1;32mfrom\u001b[0m \u001b[0mtextblob\u001b[0m \u001b[1;32mimport\u001b[0m \u001b[0mTextBlob\u001b[0m\u001b[1;33m\u001b[0m\u001b[1;33m\u001b[0m\u001b[0m\n\u001b[0m\u001b[0;32m      3\u001b[0m \u001b[1;33m\u001b[0m\u001b[0m\n\u001b[0;32m      4\u001b[0m \u001b[1;32mdef\u001b[0m \u001b[0mget_sentiment\u001b[0m\u001b[1;33m(\u001b[0m\u001b[0mtext\u001b[0m\u001b[1;33m)\u001b[0m\u001b[1;33m:\u001b[0m\u001b[1;33m\u001b[0m\u001b[1;33m\u001b[0m\u001b[0m\n\u001b[0;32m      5\u001b[0m     \u001b[0manalysis\u001b[0m \u001b[1;33m=\u001b[0m \u001b[0mTextBlob\u001b[0m\u001b[1;33m(\u001b[0m\u001b[0mtext\u001b[0m\u001b[1;33m)\u001b[0m\u001b[1;33m\u001b[0m\u001b[1;33m\u001b[0m\u001b[0m\n",
      "\u001b[1;31mModuleNotFoundError\u001b[0m: No module named 'textblob'"
     ]
    }
   ],
   "source": [
    "# Perform sentiment analysis using TextBlob\n",
    "from textblob import TextBlob\n",
    "\n",
    "def get_sentiment(text):\n",
    "    analysis = TextBlob(text)\n",
    "    if analysis.sentiment.polarity > 0:\n",
    "        return 'Positive'\n",
    "    elif analysis.sentiment.polarity < 0:\n",
    "        return 'Negative'\n",
    "    else:\n",
    "        return 'Neutral'\n",
    "\n",
    "# Apply sentiment analysis to the 'Review Text' column\n",
    "df['Sentiment'] = df['Review_text'].apply(get_sentiment)\n",
    "\n",
    "# Visualize sentiment distribution\n",
    "plt.figure(figsize=(8, 6))\n",
    "sns.countplot(x='Sentiment', data=df)\n",
    "plt.title('Sentiment Distribution')\n",
    "plt.xlabel('Sentiment')\n",
    "plt.ylabel('Count')\n",
    "plt.show()\n"
   ]
  },
  {
   "cell_type": "code",
   "execution_count": 21,
   "id": "c3ef2aea",
   "metadata": {},
   "outputs": [
    {
     "name": "stderr",
     "output_type": "stream",
     "text": [
      "[nltk_data] Downloading package vader_lexicon to\n",
      "[nltk_data]     C:\\Users\\premk\\AppData\\Roaming\\nltk_data...\n",
      "[nltk_data]   Package vader_lexicon is already up-to-date!\n"
     ]
    }
   ],
   "source": [
    "import nltk\n",
    "from nltk.sentiment.vader import SentimentIntensityAnalyzer\n",
    "\n",
    "# Download NLTK resources\n",
    "nltk.download('vader_lexicon')\n",
    "\n",
    "# Initialize the Sentiment Intensity Analyzer\n",
    "sid = SentimentIntensityAnalyzer()\n",
    "\n"
   ]
  },
  {
   "cell_type": "code",
   "execution_count": 22,
   "id": "824580ea",
   "metadata": {},
   "outputs": [],
   "source": [
    "def get_sentiment_nltk(text):\n",
    "    # Check if the text is not NaN\n",
    "    if isinstance(text, str):\n",
    "        scores = sid.polarity_scores(text)\n",
    "        if scores['compound'] > 0:\n",
    "            return 'Positive'\n",
    "        elif scores['compound'] < 0:\n",
    "            return 'Negative'\n",
    "        else:\n",
    "            return 'Neutral'\n",
    "    else:\n",
    "        return 'Neutral'  # Return 'Neutral' for NaN values\n"
   ]
  },
  {
   "cell_type": "code",
   "execution_count": 23,
   "id": "4f2bc399",
   "metadata": {
    "scrolled": true
   },
   "outputs": [
    {
     "data": {
      "image/png": "[encoded data removed]",
      "text/plain": [
       "<Figure size 576x432 with 1 Axes>"
      ]
     },
     "metadata": {
      "needs_background": "light"
     },
     "output_type": "display_data"
    }
   ],
   "source": [
    "# Apply sentiment analysis to the 'Review_text' column\n",
    "df['Sentiment_NLTK'] = df['Review_text'].apply(get_sentiment_nltk)\n",
    "\n",
    "# Visualize sentiment distribution\n",
    "plt.figure(figsize=(8, 6))\n",
    "sns.countplot(x='Sentiment_NLTK', data=df)\n",
    "plt.title('Sentiment Distribution (NLTK)')\n",
    "plt.xlabel('Sentiment')\n",
    "plt.ylabel('Count')\n",
    "plt.show()\n"
   ]
  },
  {
   "cell_type": "markdown",
   "id": "86dc17f0",
   "metadata": {},
   "source": [
    "# Text data cleaning "
   ]
  },
  {
   "cell_type": "code",
   "execution_count": 24,
   "id": "c63b3e03",
   "metadata": {},
   "outputs": [
    {
     "name": "stdout",
     "output_type": "stream",
     "text": [
      "0       Nice product, good quality, but price is now r...\n",
      "1       They didn't supplied Yonex Mavis 350. Outside ...\n",
      "2       Worst product. Damaged shuttlecocks packed in ...\n",
      "3       Quite O. K. , but nowadays  the quality of the...\n",
      "4       Over pricedJust â?¹620 ..from retailer.I didn'...\n",
      "                              ...                        \n",
      "8513                                                  NaN\n",
      "8514                                                  NaN\n",
      "8515                                                  NaN\n",
      "8516                                                  NaN\n",
      "8517                                                  NaN\n",
      "Name: Review_text, Length: 8518, dtype: object\n"
     ]
    }
   ],
   "source": [
    "print(df['Review_text'])"
   ]
  },
  {
   "cell_type": "code",
   "execution_count": 25,
   "id": "e0d9d0f5",
   "metadata": {},
   "outputs": [],
   "source": [
    "import re\n",
    "\n",
    "def clean_text(text):\n",
    "    if isinstance(text, str):\n",
    "        text = re.sub(r'[^a-zA-Z\\s]', '', text)  # Remove special characters\n",
    "        text = text.lower()  # Convert to lowercase\n",
    "        # Other preprocessing steps such as removing stopwords, stemming, or lemmatization\n",
    "        return text\n",
    "    else:\n",
    "        return ''  # Return empty string for missing values (NaN)\n",
    "\n"
   ]
  },
  {
   "cell_type": "code",
   "execution_count": 26,
   "id": "8a7c8029",
   "metadata": {},
   "outputs": [],
   "source": [
    "# Apply text cleaning to the 'Review_text' column\n",
    "df['clean_text'] = df['Review_text'].apply(clean_text)\n"
   ]
  },
  {
   "cell_type": "code",
   "execution_count": 27,
   "id": "84054edf",
   "metadata": {},
   "outputs": [
    {
     "name": "stdout",
     "output_type": "stream",
     "text": [
      "0       nice product good quality but price is now ris...\n",
      "1       they didnt supplied yonex mavis  outside cover...\n",
      "2       worst product damaged shuttlecocks packed in n...\n",
      "3       quite o k  but nowadays  the quality of the co...\n",
      "4       over pricedjust  from retaileri didnt understa...\n",
      "                              ...                        \n",
      "8513                                                     \n",
      "8514                                                     \n",
      "8515                                                     \n",
      "8516                                                     \n",
      "8517                                                     \n",
      "Name: clean_text, Length: 8518, dtype: object\n"
     ]
    }
   ],
   "source": [
    "print(df['clean_text'])"
   ]
  },
  {
   "cell_type": "code",
   "execution_count": 28,
   "id": "c6b7e194",
   "metadata": {},
   "outputs": [
    {
     "name": "stderr",
     "output_type": "stream",
     "text": [
      "[nltk_data] Downloading package punkt to\n",
      "[nltk_data]     C:\\Users\\premk\\AppData\\Roaming\\nltk_data...\n",
      "[nltk_data]   Package punkt is already up-to-date!\n",
      "[nltk_data] Downloading package wordnet to\n",
      "[nltk_data]     C:\\Users\\premk\\AppData\\Roaming\\nltk_data...\n",
      "[nltk_data]   Package wordnet is already up-to-date!\n",
      "[nltk_data] Downloading package stopwords to\n",
      "[nltk_data]     C:\\Users\\premk\\AppData\\Roaming\\nltk_data...\n",
      "[nltk_data]   Package stopwords is already up-to-date!\n"
     ]
    }
   ],
   "source": [
    "import nltk\n",
    "from nltk.corpus import stopwords\n",
    "from nltk.tokenize import word_tokenize\n",
    "from nltk.stem import WordNetLemmatizer\n",
    "\n",
    "# Download NLTK resources\n",
    "nltk.download('punkt')\n",
    "nltk.download('wordnet')\n",
    "nltk.download('stopwords')\n",
    "\n",
    "# Initialize the WordNet Lemmatizer\n",
    "lemmatizer = WordNetLemmatizer()\n",
    "\n",
    "# Define a function for text preprocessing\n",
    "def preprocess_text(text):\n",
    "    # Tokenize the text\n",
    "    tokens = word_tokenize(text)\n",
    "    \n",
    "    # Remove stopwords\n",
    "    stop_words = set(stopwords.words('english'))\n",
    "    tokens = [token for token in tokens if token.lower() not in stop_words]\n",
    "    \n",
    "    # Lemmatize tokens\n",
    "    lemmatized_tokens = [lemmatizer.lemmatize(token) for token in tokens]\n",
    "    \n",
    "    # Join the lemmatized tokens back into a single string\n",
    "    preprocessed_text = ' '.join(lemmatized_tokens)\n",
    "    \n",
    "    return preprocessed_text\n",
    "\n",
    "# Apply preprocessing to the 'Review_text' column\n",
    "df['clean_text'] = df['clean_text'].apply(preprocess_text)\n"
   ]
  },
  {
   "cell_type": "code",
   "execution_count": 29,
   "id": "116fc00d",
   "metadata": {},
   "outputs": [
    {
     "name": "stdout",
     "output_type": "stream",
     "text": [
      "0       nice product good quality price rising bad sig...\n",
      "1       didnt supplied yonex mavis outside cover yonex...\n",
      "2       worst product damaged shuttlecock packed new b...\n",
      "3       quite k nowadays quality cork like year back u...\n",
      "4       pricedjust retaileri didnt understand wat adva...\n",
      "                              ...                        \n",
      "8513                                                     \n",
      "8514                                                     \n",
      "8515                                                     \n",
      "8516                                                     \n",
      "8517                                                     \n",
      "Name: clean_text, Length: 8518, dtype: object\n"
     ]
    }
   ],
   "source": [
    "print(df['clean_text'])"
   ]
  },
  {
   "cell_type": "markdown",
   "id": "16411049",
   "metadata": {},
   "source": [
    "# Feature Extraction for text data"
   ]
  },
  {
   "cell_type": "code",
   "execution_count": 30,
   "id": "0d68cc35",
   "metadata": {},
   "outputs": [],
   "source": [
    "from sklearn.feature_extraction.text import TfidfVectorizer\n",
    "\n",
    "# Initialize the TF-IDF vectorizer\n",
    "tfidf_vectorizer = TfidfVectorizer(max_features=1000)  # You can adjust the max_features parameter based on your data size and computational resources\n",
    "\n",
    "# Fit and transform the preprocessed text data\n",
    "tfidf_features = tfidf_vectorizer.fit_transform(df['clean_text'])\n",
    "\n",
    "# Convert the TF-IDF features to a DataFrame for easier analysis\n",
    "tfidf_df = pd.DataFrame(tfidf_features.toarray(), columns=tfidf_vectorizer.get_feature_names())\n",
    "\n",
    "# Concatenate the TF-IDF features with the original DataFrame\n",
    "df_with_tfidf = pd.concat([df, tfidf_df], axis=1)\n"
   ]
  },
  {
   "cell_type": "code",
   "execution_count": 31,
   "id": "d7534c22",
   "metadata": {},
   "outputs": [
    {
     "name": "stdout",
     "output_type": "stream",
     "text": [
      "               Reviewer_Name               Review_Title  \\\n",
      "0               Kamal Suresh               Nice product   \n",
      "1          Flipkart Customer     Don't waste your money   \n",
      "2     A. S. Raja Srinivasan   Did not meet expectations   \n",
      "3        Suresh Narayanasamy                       Fair   \n",
      "4                  ASHIK P A                Over priced   \n",
      "...                      ...                        ...   \n",
      "8513               Anonymous                   No Title   \n",
      "8514               Anonymous                   No Title   \n",
      "8515               Anonymous                   No Title   \n",
      "8516               Anonymous                   No Title   \n",
      "8517               Anonymous                   No Title   \n",
      "\n",
      "                  Place_of_Review  Up_Votes  Down_Votes      Month  \\\n",
      "0      Certified Buyer, Chirakkal       889          64 2021-02-01   \n",
      "1      Certified Buyer, Hyderabad       109           6 2021-02-01   \n",
      "2     Certified Buyer, Dharmapuri        42           3 2021-04-01   \n",
      "3        Certified Buyer, Chennai        25           1        NaT   \n",
      "4                         Unknown       147          24 2016-04-01   \n",
      "...                           ...       ...         ...        ...   \n",
      "8513                      Unknown         0           0        NaT   \n",
      "8514                      Unknown         0           0        NaT   \n",
      "8515                      Unknown         0           0        NaT   \n",
      "8516                      Unknown         0           0        NaT   \n",
      "8517                      Unknown         0           0        NaT   \n",
      "\n",
      "                                            Review_text  Ratings  \\\n",
      "0     Nice product, good quality, but price is now r...        4   \n",
      "1     They didn't supplied Yonex Mavis 350. Outside ...        1   \n",
      "2     Worst product. Damaged shuttlecocks packed in ...        1   \n",
      "3     Quite O. K. , but nowadays  the quality of the...        3   \n",
      "4     Over pricedJust â?¹620 ..from retailer.I didn'...        1   \n",
      "...                                                 ...      ...   \n",
      "8513                                                NaN        5   \n",
      "8514                                                NaN        2   \n",
      "8515                                                NaN        4   \n",
      "8516                                                NaN        1   \n",
      "8517                                                NaN        4   \n",
      "\n",
      "     Sentiment_NLTK                                         clean_text  ...  \\\n",
      "0          Positive  nice product good quality price rising bad sig...  ...   \n",
      "1          Negative  didnt supplied yonex mavis outside cover yonex...  ...   \n",
      "2          Negative  worst product damaged shuttlecock packed new b...  ...   \n",
      "3          Positive  quite k nowadays quality cork like year back u...  ...   \n",
      "4          Positive  pricedjust retaileri didnt understand wat adva...  ...   \n",
      "...             ...                                                ...  ...   \n",
      "8513        Neutral                                                     ...   \n",
      "8514        Neutral                                                     ...   \n",
      "8515        Neutral                                                     ...   \n",
      "8516        Neutral                                                     ...   \n",
      "8517        Neutral                                                     ...   \n",
      "\n",
      "          year  yearsread  yellow  yes  yesterday  yet     yonex  yonexread  \\\n",
      "0     0.000000        0.0     0.0  0.0        0.0  0.0  0.000000        0.0   \n",
      "1     0.000000        0.0     0.0  0.0        0.0  0.0  0.471935        0.0   \n",
      "2     0.000000        0.0     0.0  0.0        0.0  0.0  0.229114        0.0   \n",
      "3     0.349816        0.0     0.0  0.0        0.0  0.0  0.000000        0.0   \n",
      "4     0.000000        0.0     0.0  0.0        0.0  0.0  0.000000        0.0   \n",
      "...        ...        ...     ...  ...        ...  ...       ...        ...   \n",
      "8513  0.000000        0.0     0.0  0.0        0.0  0.0  0.000000        0.0   \n",
      "8514  0.000000        0.0     0.0  0.0        0.0  0.0  0.000000        0.0   \n",
      "8515  0.000000        0.0     0.0  0.0        0.0  0.0  0.000000        0.0   \n",
      "8516  0.000000        0.0     0.0  0.0        0.0  0.0  0.000000        0.0   \n",
      "8517  0.000000        0.0     0.0  0.0        0.0  0.0  0.000000        0.0   \n",
      "\n",
      "       youread   yr  \n",
      "0     0.279146  0.0  \n",
      "1     0.000000  0.0  \n",
      "2     0.000000  0.0  \n",
      "3     0.000000  0.0  \n",
      "4     0.000000  0.0  \n",
      "...        ...  ...  \n",
      "8513  0.000000  0.0  \n",
      "8514  0.000000  0.0  \n",
      "8515  0.000000  0.0  \n",
      "8516  0.000000  0.0  \n",
      "8517  0.000000  0.0  \n",
      "\n",
      "[8518 rows x 1010 columns]\n"
     ]
    }
   ],
   "source": [
    "print(df_with_tfidf)"
   ]
  },
  {
   "cell_type": "code",
   "execution_count": 32,
   "id": "2b799e10",
   "metadata": {},
   "outputs": [
    {
     "data": {
      "text/html": [
       "<div>\n",
       "<style scoped>\n",
       "    .dataframe tbody tr th:only-of-type {\n",
       "        vertical-align: middle;\n",
       "    }\n",
       "\n",
       "    .dataframe tbody tr th {\n",
       "        vertical-align: top;\n",
       "    }\n",
       "\n",
       "    .dataframe thead th {\n",
       "        text-align: right;\n",
       "    }\n",
       "</style>\n",
       "<table border=\"1\" class=\"dataframe\">\n",
       "  <thead>\n",
       "    <tr style=\"text-align: right;\">\n",
       "      <th></th>\n",
       "      <th>Reviewer_Name</th>\n",
       "      <th>Review_Title</th>\n",
       "      <th>Place_of_Review</th>\n",
       "      <th>Up_Votes</th>\n",
       "      <th>Down_Votes</th>\n",
       "      <th>Month</th>\n",
       "      <th>Review_text</th>\n",
       "      <th>Ratings</th>\n",
       "      <th>Sentiment_NLTK</th>\n",
       "      <th>clean_text</th>\n",
       "      <th>...</th>\n",
       "      <th>year</th>\n",
       "      <th>yearsread</th>\n",
       "      <th>yellow</th>\n",
       "      <th>yes</th>\n",
       "      <th>yesterday</th>\n",
       "      <th>yet</th>\n",
       "      <th>yonex</th>\n",
       "      <th>yonexread</th>\n",
       "      <th>youread</th>\n",
       "      <th>yr</th>\n",
       "    </tr>\n",
       "  </thead>\n",
       "  <tbody>\n",
       "    <tr>\n",
       "      <th>0</th>\n",
       "      <td>Kamal Suresh</td>\n",
       "      <td>Nice product</td>\n",
       "      <td>Certified Buyer, Chirakkal</td>\n",
       "      <td>889</td>\n",
       "      <td>64</td>\n",
       "      <td>2021-02-01</td>\n",
       "      <td>Nice product, good quality, but price is now r...</td>\n",
       "      <td>4</td>\n",
       "      <td>Positive</td>\n",
       "      <td>nice product good quality price rising bad sig...</td>\n",
       "      <td>...</td>\n",
       "      <td>0.000000</td>\n",
       "      <td>0.0</td>\n",
       "      <td>0.0</td>\n",
       "      <td>0.0</td>\n",
       "      <td>0.0</td>\n",
       "      <td>0.0</td>\n",
       "      <td>0.000000</td>\n",
       "      <td>0.0</td>\n",
       "      <td>0.279146</td>\n",
       "      <td>0.0</td>\n",
       "    </tr>\n",
       "    <tr>\n",
       "      <th>1</th>\n",
       "      <td>Flipkart Customer</td>\n",
       "      <td>Don't waste your money</td>\n",
       "      <td>Certified Buyer, Hyderabad</td>\n",
       "      <td>109</td>\n",
       "      <td>6</td>\n",
       "      <td>2021-02-01</td>\n",
       "      <td>They didn't supplied Yonex Mavis 350. Outside ...</td>\n",
       "      <td>1</td>\n",
       "      <td>Negative</td>\n",
       "      <td>didnt supplied yonex mavis outside cover yonex...</td>\n",
       "      <td>...</td>\n",
       "      <td>0.000000</td>\n",
       "      <td>0.0</td>\n",
       "      <td>0.0</td>\n",
       "      <td>0.0</td>\n",
       "      <td>0.0</td>\n",
       "      <td>0.0</td>\n",
       "      <td>0.471935</td>\n",
       "      <td>0.0</td>\n",
       "      <td>0.000000</td>\n",
       "      <td>0.0</td>\n",
       "    </tr>\n",
       "    <tr>\n",
       "      <th>2</th>\n",
       "      <td>A. S. Raja Srinivasan</td>\n",
       "      <td>Did not meet expectations</td>\n",
       "      <td>Certified Buyer, Dharmapuri</td>\n",
       "      <td>42</td>\n",
       "      <td>3</td>\n",
       "      <td>2021-04-01</td>\n",
       "      <td>Worst product. Damaged shuttlecocks packed in ...</td>\n",
       "      <td>1</td>\n",
       "      <td>Negative</td>\n",
       "      <td>worst product damaged shuttlecock packed new b...</td>\n",
       "      <td>...</td>\n",
       "      <td>0.000000</td>\n",
       "      <td>0.0</td>\n",
       "      <td>0.0</td>\n",
       "      <td>0.0</td>\n",
       "      <td>0.0</td>\n",
       "      <td>0.0</td>\n",
       "      <td>0.229114</td>\n",
       "      <td>0.0</td>\n",
       "      <td>0.000000</td>\n",
       "      <td>0.0</td>\n",
       "    </tr>\n",
       "    <tr>\n",
       "      <th>3</th>\n",
       "      <td>Suresh Narayanasamy</td>\n",
       "      <td>Fair</td>\n",
       "      <td>Certified Buyer, Chennai</td>\n",
       "      <td>25</td>\n",
       "      <td>1</td>\n",
       "      <td>NaT</td>\n",
       "      <td>Quite O. K. , but nowadays  the quality of the...</td>\n",
       "      <td>3</td>\n",
       "      <td>Positive</td>\n",
       "      <td>quite k nowadays quality cork like year back u...</td>\n",
       "      <td>...</td>\n",
       "      <td>0.349816</td>\n",
       "      <td>0.0</td>\n",
       "      <td>0.0</td>\n",
       "      <td>0.0</td>\n",
       "      <td>0.0</td>\n",
       "      <td>0.0</td>\n",
       "      <td>0.000000</td>\n",
       "      <td>0.0</td>\n",
       "      <td>0.000000</td>\n",
       "      <td>0.0</td>\n",
       "    </tr>\n",
       "    <tr>\n",
       "      <th>4</th>\n",
       "      <td>ASHIK P A</td>\n",
       "      <td>Over priced</td>\n",
       "      <td>Unknown</td>\n",
       "      <td>147</td>\n",
       "      <td>24</td>\n",
       "      <td>2016-04-01</td>\n",
       "      <td>Over pricedJust â?¹620 ..from retailer.I didn'...</td>\n",
       "      <td>1</td>\n",
       "      <td>Positive</td>\n",
       "      <td>pricedjust retaileri didnt understand wat adva...</td>\n",
       "      <td>...</td>\n",
       "      <td>0.000000</td>\n",
       "      <td>0.0</td>\n",
       "      <td>0.0</td>\n",
       "      <td>0.0</td>\n",
       "      <td>0.0</td>\n",
       "      <td>0.0</td>\n",
       "      <td>0.000000</td>\n",
       "      <td>0.0</td>\n",
       "      <td>0.000000</td>\n",
       "      <td>0.0</td>\n",
       "    </tr>\n",
       "  </tbody>\n",
       "</table>\n",
       "<p>5 rows × 1010 columns</p>\n",
       "</div>"
      ],
      "text/plain": [
       "            Reviewer_Name               Review_Title  \\\n",
       "0            Kamal Suresh               Nice product   \n",
       "1       Flipkart Customer     Don't waste your money   \n",
       "2  A. S. Raja Srinivasan   Did not meet expectations   \n",
       "3     Suresh Narayanasamy                       Fair   \n",
       "4               ASHIK P A                Over priced   \n",
       "\n",
       "               Place_of_Review  Up_Votes  Down_Votes      Month  \\\n",
       "0   Certified Buyer, Chirakkal       889          64 2021-02-01   \n",
       "1   Certified Buyer, Hyderabad       109           6 2021-02-01   \n",
       "2  Certified Buyer, Dharmapuri        42           3 2021-04-01   \n",
       "3     Certified Buyer, Chennai        25           1        NaT   \n",
       "4                      Unknown       147          24 2016-04-01   \n",
       "\n",
       "                                         Review_text  Ratings Sentiment_NLTK  \\\n",
       "0  Nice product, good quality, but price is now r...        4       Positive   \n",
       "1  They didn't supplied Yonex Mavis 350. Outside ...        1       Negative   \n",
       "2  Worst product. Damaged shuttlecocks packed in ...        1       Negative   \n",
       "3  Quite O. K. , but nowadays  the quality of the...        3       Positive   \n",
       "4  Over pricedJust â?¹620 ..from retailer.I didn'...        1       Positive   \n",
       "\n",
       "                                          clean_text  ...      year  \\\n",
       "0  nice product good quality price rising bad sig...  ...  0.000000   \n",
       "1  didnt supplied yonex mavis outside cover yonex...  ...  0.000000   \n",
       "2  worst product damaged shuttlecock packed new b...  ...  0.000000   \n",
       "3  quite k nowadays quality cork like year back u...  ...  0.349816   \n",
       "4  pricedjust retaileri didnt understand wat adva...  ...  0.000000   \n",
       "\n",
       "   yearsread  yellow  yes  yesterday  yet     yonex  yonexread   youread   yr  \n",
       "0        0.0     0.0  0.0        0.0  0.0  0.000000        0.0  0.279146  0.0  \n",
       "1        0.0     0.0  0.0        0.0  0.0  0.471935        0.0  0.000000  0.0  \n",
       "2        0.0     0.0  0.0        0.0  0.0  0.229114        0.0  0.000000  0.0  \n",
       "3        0.0     0.0  0.0        0.0  0.0  0.000000        0.0  0.000000  0.0  \n",
       "4        0.0     0.0  0.0        0.0  0.0  0.000000        0.0  0.000000  0.0  \n",
       "\n",
       "[5 rows x 1010 columns]"
      ]
     },
     "execution_count": 32,
     "metadata": {},
     "output_type": "execute_result"
    }
   ],
   "source": [
    "df_with_tfidf.head()"
   ]
  },
  {
   "cell_type": "markdown",
   "id": "08309021",
   "metadata": {},
   "source": [
    "# Sentiment analysis on cleaned text"
   ]
  },
  {
   "cell_type": "code",
   "execution_count": 33,
   "id": "ec174864",
   "metadata": {},
   "outputs": [
    {
     "name": "stderr",
     "output_type": "stream",
     "text": [
      "[nltk_data] Downloading package vader_lexicon to\n",
      "[nltk_data]     C:\\Users\\premk\\AppData\\Roaming\\nltk_data...\n",
      "[nltk_data]   Package vader_lexicon is already up-to-date!\n"
     ]
    },
    {
     "data": {
      "image/png": "[encoded data removed]",
      "text/plain": [
       "<Figure size 576x432 with 1 Axes>"
      ]
     },
     "metadata": {
      "needs_background": "light"
     },
     "output_type": "display_data"
    }
   ],
   "source": [
    "import nltk\n",
    "from nltk.sentiment.vader import SentimentIntensityAnalyzer\n",
    "\n",
    "# Download NLTK resources\n",
    "nltk.download('vader_lexicon')\n",
    "\n",
    "# Initialize the Sentiment Intensity Analyzer\n",
    "sid = SentimentIntensityAnalyzer()\n",
    "# Apply sentiment analysis to the 'Review_text' column\n",
    "df['Sentiment_NLTK'] = df_with_tfidf['clean_text'].apply(get_sentiment_nltk)\n",
    "\n",
    "# Visualize sentiment distribution\n",
    "plt.figure(figsize=(8, 6))\n",
    "sns.countplot(x='Sentiment_NLTK', data=df)\n",
    "plt.title('Sentiment Distribution (NLTK)')\n",
    "plt.xlabel('Sentiment')\n",
    "plt.ylabel('Count')\n",
    "plt.show()"
   ]
  },
  {
   "cell_type": "code",
   "execution_count": 34,
   "id": "9ff3c6e0",
   "metadata": {},
   "outputs": [
    {
     "data": {
      "text/html": [
       "<div>\n",
       "<style scoped>\n",
       "    .dataframe tbody tr th:only-of-type {\n",
       "        vertical-align: middle;\n",
       "    }\n",
       "\n",
       "    .dataframe tbody tr th {\n",
       "        vertical-align: top;\n",
       "    }\n",
       "\n",
       "    .dataframe thead th {\n",
       "        text-align: right;\n",
       "    }\n",
       "</style>\n",
       "<table border=\"1\" class=\"dataframe\">\n",
       "  <thead>\n",
       "    <tr style=\"text-align: right;\">\n",
       "      <th></th>\n",
       "      <th>Reviewer_Name</th>\n",
       "      <th>Review_Title</th>\n",
       "      <th>Place_of_Review</th>\n",
       "      <th>Up_Votes</th>\n",
       "      <th>Down_Votes</th>\n",
       "      <th>Month</th>\n",
       "      <th>Review_text</th>\n",
       "      <th>Ratings</th>\n",
       "      <th>Sentiment_NLTK</th>\n",
       "      <th>clean_text</th>\n",
       "      <th>...</th>\n",
       "      <th>year</th>\n",
       "      <th>yearsread</th>\n",
       "      <th>yellow</th>\n",
       "      <th>yes</th>\n",
       "      <th>yesterday</th>\n",
       "      <th>yet</th>\n",
       "      <th>yonex</th>\n",
       "      <th>yonexread</th>\n",
       "      <th>youread</th>\n",
       "      <th>yr</th>\n",
       "    </tr>\n",
       "  </thead>\n",
       "  <tbody>\n",
       "    <tr>\n",
       "      <th>0</th>\n",
       "      <td>Kamal Suresh</td>\n",
       "      <td>Nice product</td>\n",
       "      <td>Certified Buyer, Chirakkal</td>\n",
       "      <td>889</td>\n",
       "      <td>64</td>\n",
       "      <td>2021-02-01</td>\n",
       "      <td>Nice product, good quality, but price is now r...</td>\n",
       "      <td>4</td>\n",
       "      <td>Positive</td>\n",
       "      <td>nice product good quality price rising bad sig...</td>\n",
       "      <td>...</td>\n",
       "      <td>0.000000</td>\n",
       "      <td>0.0</td>\n",
       "      <td>0.0</td>\n",
       "      <td>0.0</td>\n",
       "      <td>0.0</td>\n",
       "      <td>0.0</td>\n",
       "      <td>0.000000</td>\n",
       "      <td>0.0</td>\n",
       "      <td>0.279146</td>\n",
       "      <td>0.0</td>\n",
       "    </tr>\n",
       "    <tr>\n",
       "      <th>1</th>\n",
       "      <td>Flipkart Customer</td>\n",
       "      <td>Don't waste your money</td>\n",
       "      <td>Certified Buyer, Hyderabad</td>\n",
       "      <td>109</td>\n",
       "      <td>6</td>\n",
       "      <td>2021-02-01</td>\n",
       "      <td>They didn't supplied Yonex Mavis 350. Outside ...</td>\n",
       "      <td>1</td>\n",
       "      <td>Negative</td>\n",
       "      <td>didnt supplied yonex mavis outside cover yonex...</td>\n",
       "      <td>...</td>\n",
       "      <td>0.000000</td>\n",
       "      <td>0.0</td>\n",
       "      <td>0.0</td>\n",
       "      <td>0.0</td>\n",
       "      <td>0.0</td>\n",
       "      <td>0.0</td>\n",
       "      <td>0.471935</td>\n",
       "      <td>0.0</td>\n",
       "      <td>0.000000</td>\n",
       "      <td>0.0</td>\n",
       "    </tr>\n",
       "    <tr>\n",
       "      <th>2</th>\n",
       "      <td>A. S. Raja Srinivasan</td>\n",
       "      <td>Did not meet expectations</td>\n",
       "      <td>Certified Buyer, Dharmapuri</td>\n",
       "      <td>42</td>\n",
       "      <td>3</td>\n",
       "      <td>2021-04-01</td>\n",
       "      <td>Worst product. Damaged shuttlecocks packed in ...</td>\n",
       "      <td>1</td>\n",
       "      <td>Negative</td>\n",
       "      <td>worst product damaged shuttlecock packed new b...</td>\n",
       "      <td>...</td>\n",
       "      <td>0.000000</td>\n",
       "      <td>0.0</td>\n",
       "      <td>0.0</td>\n",
       "      <td>0.0</td>\n",
       "      <td>0.0</td>\n",
       "      <td>0.0</td>\n",
       "      <td>0.229114</td>\n",
       "      <td>0.0</td>\n",
       "      <td>0.000000</td>\n",
       "      <td>0.0</td>\n",
       "    </tr>\n",
       "    <tr>\n",
       "      <th>3</th>\n",
       "      <td>Suresh Narayanasamy</td>\n",
       "      <td>Fair</td>\n",
       "      <td>Certified Buyer, Chennai</td>\n",
       "      <td>25</td>\n",
       "      <td>1</td>\n",
       "      <td>NaT</td>\n",
       "      <td>Quite O. K. , but nowadays  the quality of the...</td>\n",
       "      <td>3</td>\n",
       "      <td>Positive</td>\n",
       "      <td>quite k nowadays quality cork like year back u...</td>\n",
       "      <td>...</td>\n",
       "      <td>0.349816</td>\n",
       "      <td>0.0</td>\n",
       "      <td>0.0</td>\n",
       "      <td>0.0</td>\n",
       "      <td>0.0</td>\n",
       "      <td>0.0</td>\n",
       "      <td>0.000000</td>\n",
       "      <td>0.0</td>\n",
       "      <td>0.000000</td>\n",
       "      <td>0.0</td>\n",
       "    </tr>\n",
       "    <tr>\n",
       "      <th>4</th>\n",
       "      <td>ASHIK P A</td>\n",
       "      <td>Over priced</td>\n",
       "      <td>Unknown</td>\n",
       "      <td>147</td>\n",
       "      <td>24</td>\n",
       "      <td>2016-04-01</td>\n",
       "      <td>Over pricedJust â?¹620 ..from retailer.I didn'...</td>\n",
       "      <td>1</td>\n",
       "      <td>Positive</td>\n",
       "      <td>pricedjust retaileri didnt understand wat adva...</td>\n",
       "      <td>...</td>\n",
       "      <td>0.000000</td>\n",
       "      <td>0.0</td>\n",
       "      <td>0.0</td>\n",
       "      <td>0.0</td>\n",
       "      <td>0.0</td>\n",
       "      <td>0.0</td>\n",
       "      <td>0.000000</td>\n",
       "      <td>0.0</td>\n",
       "      <td>0.000000</td>\n",
       "      <td>0.0</td>\n",
       "    </tr>\n",
       "  </tbody>\n",
       "</table>\n",
       "<p>5 rows × 1010 columns</p>\n",
       "</div>"
      ],
      "text/plain": [
       "            Reviewer_Name               Review_Title  \\\n",
       "0            Kamal Suresh               Nice product   \n",
       "1       Flipkart Customer     Don't waste your money   \n",
       "2  A. S. Raja Srinivasan   Did not meet expectations   \n",
       "3     Suresh Narayanasamy                       Fair   \n",
       "4               ASHIK P A                Over priced   \n",
       "\n",
       "               Place_of_Review  Up_Votes  Down_Votes      Month  \\\n",
       "0   Certified Buyer, Chirakkal       889          64 2021-02-01   \n",
       "1   Certified Buyer, Hyderabad       109           6 2021-02-01   \n",
       "2  Certified Buyer, Dharmapuri        42           3 2021-04-01   \n",
       "3     Certified Buyer, Chennai        25           1        NaT   \n",
       "4                      Unknown       147          24 2016-04-01   \n",
       "\n",
       "                                         Review_text  Ratings Sentiment_NLTK  \\\n",
       "0  Nice product, good quality, but price is now r...        4       Positive   \n",
       "1  They didn't supplied Yonex Mavis 350. Outside ...        1       Negative   \n",
       "2  Worst product. Damaged shuttlecocks packed in ...        1       Negative   \n",
       "3  Quite O. K. , but nowadays  the quality of the...        3       Positive   \n",
       "4  Over pricedJust â?¹620 ..from retailer.I didn'...        1       Positive   \n",
       "\n",
       "                                          clean_text  ...      year  \\\n",
       "0  nice product good quality price rising bad sig...  ...  0.000000   \n",
       "1  didnt supplied yonex mavis outside cover yonex...  ...  0.000000   \n",
       "2  worst product damaged shuttlecock packed new b...  ...  0.000000   \n",
       "3  quite k nowadays quality cork like year back u...  ...  0.349816   \n",
       "4  pricedjust retaileri didnt understand wat adva...  ...  0.000000   \n",
       "\n",
       "   yearsread  yellow  yes  yesterday  yet     yonex  yonexread   youread   yr  \n",
       "0        0.0     0.0  0.0        0.0  0.0  0.000000        0.0  0.279146  0.0  \n",
       "1        0.0     0.0  0.0        0.0  0.0  0.471935        0.0  0.000000  0.0  \n",
       "2        0.0     0.0  0.0        0.0  0.0  0.229114        0.0  0.000000  0.0  \n",
       "3        0.0     0.0  0.0        0.0  0.0  0.000000        0.0  0.000000  0.0  \n",
       "4        0.0     0.0  0.0        0.0  0.0  0.000000        0.0  0.000000  0.0  \n",
       "\n",
       "[5 rows x 1010 columns]"
      ]
     },
     "execution_count": 34,
     "metadata": {},
     "output_type": "execute_result"
    }
   ],
   "source": [
    "df_with_tfidf.head()"
   ]
  },
  {
   "cell_type": "markdown",
   "id": "8d8e5c20",
   "metadata": {},
   "source": [
    "# Correlation Analysis"
   ]
  },
  {
   "cell_type": "code",
   "execution_count": 35,
   "id": "d2899087",
   "metadata": {},
   "outputs": [
    {
     "data": {
      "image/png": "[encoded data removed]",
      "text/plain": [
       "<Figure size 540x540 with 12 Axes>"
      ]
     },
     "metadata": {
      "needs_background": "light"
     },
     "output_type": "display_data"
    }
   ],
   "source": [
    "import seaborn as sns\n",
    "sns.pairplot(df[['Ratings', 'Up_Votes', 'Down_Votes']])\n",
    "plt.show()\n"
   ]
  },
  {
   "cell_type": "markdown",
   "id": "6fdfd996",
   "metadata": {},
   "source": [
    "# Temporal Analysis"
   ]
  },
  {
   "cell_type": "code",
   "execution_count": 36,
   "id": "fc72daae",
   "metadata": {},
   "outputs": [
    {
     "data": {
      "image/png": "[encoded data removed]",
      "text/plain": [
       "<Figure size 720x432 with 1 Axes>"
      ]
     },
     "metadata": {
      "needs_background": "light"
     },
     "output_type": "display_data"
    }
   ],
   "source": [
    "plt.figure(figsize=(10, 6))\n",
    "df['Month'].value_counts().sort_index().plot(kind='line', marker='o')\n",
    "plt.xlabel('Month')\n",
    "plt.ylabel('Number of Reviews')\n",
    "plt.title('Temporal Trend of Reviews')\n",
    "plt.xticks(rotation=45)\n",
    "plt.show()\n"
   ]
  },
  {
   "cell_type": "code",
   "execution_count": 37,
   "id": "00801500",
   "metadata": {},
   "outputs": [
    {
     "data": {
      "text/plain": [
       "Index(['Reviewer_Name', 'Review_Title', 'Place_of_Review', 'Up_Votes',\n",
       "       'Down_Votes', 'Month', 'Review_text', 'Ratings', 'Sentiment_NLTK',\n",
       "       'clean_text',\n",
       "       ...\n",
       "       'year', 'yearsread', 'yellow', 'yes', 'yesterday', 'yet', 'yonex',\n",
       "       'yonexread', 'youread', 'yr'],\n",
       "      dtype='object', length=1010)"
      ]
     },
     "execution_count": 37,
     "metadata": {},
     "output_type": "execute_result"
    }
   ],
   "source": [
    "df_with_tfidf.columns"
   ]
  },
  {
   "cell_type": "code",
   "execution_count": 38,
   "id": "b306bbcb",
   "metadata": {},
   "outputs": [
    {
     "data": {
      "text/plain": [
       "'Nice product, good quality, but price is now rising which is a bad sign. 800-850 was an affordable price, especially when we play everyday. So kindly help us out in terms of the price. Thank You.READ MORE'"
      ]
     },
     "execution_count": 38,
     "metadata": {},
     "output_type": "execute_result"
    }
   ],
   "source": [
    "df_with_tfidf.loc[0, 'Review_text']"
   ]
  },
  {
   "cell_type": "code",
   "execution_count": 39,
   "id": "08562b53",
   "metadata": {},
   "outputs": [
    {
     "data": {
      "text/plain": [
       "'nice product good quality price rising bad sign affordable price especially play everyday kindly help u term price thank youread'"
      ]
     },
     "execution_count": 39,
     "metadata": {},
     "output_type": "execute_result"
    }
   ],
   "source": [
    "df_with_tfidf.loc[0, 'clean_text']"
   ]
  },
  {
   "cell_type": "code",
   "execution_count": 40,
   "id": "5ea36af0",
   "metadata": {},
   "outputs": [
    {
     "data": {
      "text/plain": [
       "'didnt supplied yonex mavis outside cover yonex ad inside cheapest sad hear thisread'"
      ]
     },
     "execution_count": 40,
     "metadata": {},
     "output_type": "execute_result"
    }
   ],
   "source": [
    "df_with_tfidf.loc[1, 'clean_text']"
   ]
  },
  {
   "cell_type": "markdown",
   "id": "baa78a65",
   "metadata": {},
   "source": [
    "# Sentiment analysis on ratings "
   ]
  },
  {
   "cell_type": "code",
   "execution_count": 41,
   "id": "8688dfbc",
   "metadata": {},
   "outputs": [],
   "source": [
    "# Define a function to categorize ratings as positive or negative\n",
    "def categorize_rating_sentiment(rating):\n",
    "    if rating >= 3:\n",
    "        return 'Positive'\n",
    "    else:\n",
    "        return 'Negative'\n",
    "\n",
    "# Apply the function to create a new column for sentiment based on ratings\n",
    "df_with_tfidf['Sentiment_Rating'] = df_with_tfidf['Ratings'].apply(categorize_rating_sentiment)\n"
   ]
  },
  {
   "cell_type": "code",
   "execution_count": 42,
   "id": "34aec8b0",
   "metadata": {},
   "outputs": [
    {
     "data": {
      "text/plain": [
       "Positive    0.873562\n",
       "Negative    0.126438\n",
       "Name: Sentiment_Rating, dtype: float64"
      ]
     },
     "execution_count": 42,
     "metadata": {},
     "output_type": "execute_result"
    }
   ],
   "source": [
    "# Distribution on target variable looks non-uniform\n",
    "\n",
    "df_with_tfidf['Sentiment_Rating'].value_counts(normalize=True)"
   ]
  },
  {
   "cell_type": "markdown",
   "id": "23a6789e",
   "metadata": {},
   "source": [
    "# Text data "
   ]
  },
  {
   "cell_type": "code",
   "execution_count": 43,
   "id": "10e5f11a",
   "metadata": {},
   "outputs": [
    {
     "data": {
      "text/plain": [
       "Positive    0.467598\n",
       "Neutral     0.438835\n",
       "Negative    0.093567\n",
       "Name: Sentiment_NLTK, dtype: float64"
      ]
     },
     "execution_count": 43,
     "metadata": {},
     "output_type": "execute_result"
    }
   ],
   "source": [
    "# Distribution on target variable looks non-uniform\n",
    "\n",
    "df_with_tfidf['Sentiment_NLTK'].value_counts(normalize=True)"
   ]
  },
  {
   "cell_type": "code",
   "execution_count": 44,
   "id": "b40d039b",
   "metadata": {},
   "outputs": [
    {
     "data": {
      "text/plain": [
       "(4780, 1011)"
      ]
     },
     "execution_count": 44,
     "metadata": {},
     "output_type": "execute_result"
    }
   ],
   "source": [
    "# removing the data where we don't want, i.e.'netural'.\n",
    "df_with_tfidf = df_with_tfidf[df_with_tfidf.Sentiment_NLTK != \"Neutral\"]\n",
    "\n",
    "df_with_tfidf.shape"
   ]
  },
  {
   "cell_type": "code",
   "execution_count": 45,
   "id": "4476bcd1",
   "metadata": {},
   "outputs": [
    {
     "data": {
      "text/plain": [
       "Positive    0.833264\n",
       "Negative    0.166736\n",
       "Name: Sentiment_NLTK, dtype: float64"
      ]
     },
     "execution_count": 45,
     "metadata": {},
     "output_type": "execute_result"
    }
   ],
   "source": [
    "\n",
    "df_with_tfidf['Sentiment_NLTK'].value_counts(normalize=True)"
   ]
  },
  {
   "cell_type": "markdown",
   "id": "5afbd88f",
   "metadata": {},
   "source": [
    "Based on your data preprocessing steps and the creation of sentiment columns, it seems like you have two potential options for your target variable (y) and predictor variables (X):\n",
    "\n",
    "Using 'Sentiment_Rating' as the target variable (y):\n",
    "\n",
    "y (Target Variable): 'Sentiment_Rating' column\n",
    "X (Predictor Variables): TF-IDF features (columns containing TF-IDF values for each word in the vocabulary)\n",
    "Using 'Sentiment_NLTK' as the target variable (y):\n",
    "\n",
    "y (Target Variable): 'Sentiment_NLTK' column\n",
    "X (Predictor Variables): TF-IDF features (columns containing TF-IDF values for each word in the vocabulary)\n",
    "Choose the option based on your specific objective and the sentiment analysis approach you prefer.\n",
    "\n",
    "If you trust the sentiment analysis based on ratings ('Sentiment_Rating') more and want to predict sentiment based on the actual ratings, you should consider using 'Sentiment_Rating' as the target variable.\n",
    "\n",
    "If you prefer the sentiment analysis based on the NLTK library ('Sentiment_NLTK') or if it aligns better with your objectives, you should consider using 'Sentiment_NLTK' as the target variable."
   ]
  },
  {
   "cell_type": "markdown",
   "id": "0c15ee06",
   "metadata": {},
   "source": [
    "### Iam choosing Sentiment_NLTK for sentiment analysis"
   ]
  },
  {
   "cell_type": "code",
   "execution_count": 46,
   "id": "3f001451",
   "metadata": {
    "scrolled": true
   },
   "outputs": [
    {
     "name": "stdout",
     "output_type": "stream",
     "text": [
      "  Sentiment_NLTK  Sentiment_NLTK_numeric\n",
      "0       Positive                       1\n",
      "1       Negative                       0\n",
      "2       Negative                       0\n",
      "3       Positive                       1\n",
      "4       Positive                       1\n"
     ]
    }
   ],
   "source": [
    "# Define a dictionary to map sentiment categories to numerical values\n",
    "sentiment_mapping = {'Positive': 1, 'Negative': 0}\n",
    "\n",
    "# Map sentiment categories to numerical values in the 'Sentiment_NLTK' column\n",
    "df_with_tfidf['Sentiment_NLTK_numeric'] = df_with_tfidf['Sentiment_NLTK'].map(sentiment_mapping)\n",
    "\n",
    "# Display the updated DataFrame\n",
    "print(df_with_tfidf[['Sentiment_NLTK', 'Sentiment_NLTK_numeric']].head())\n"
   ]
  },
  {
   "cell_type": "code",
   "execution_count": 47,
   "id": "55592f7d",
   "metadata": {},
   "outputs": [
    {
     "data": {
      "text/plain": [
       "(4780, 2)"
      ]
     },
     "execution_count": 47,
     "metadata": {},
     "output_type": "execute_result"
    }
   ],
   "source": [
    "# Let us take only the two columns we need\n",
    "df1 = df_with_tfidf[[\"clean_text\", \"Sentiment_NLTK_numeric\"]] \n",
    "df1.shape"
   ]
  },
  {
   "cell_type": "code",
   "execution_count": null,
   "id": "ca4d6243",
   "metadata": {},
   "outputs": [],
   "source": []
  }
 ],
 "metadata": {
  "kernelspec": {
   "display_name": "Python 3",
   "language": "python",
   "name": "python3"
  },
  "language_info": {
   "codemirror_mode": {
    "name": "ipython",
    "version": 3
   },
   "file_extension": ".py",
   "mimetype": "text/x-python",
   "name": "python",
   "nbconvert_exporter": "python",
   "pygments_lexer": "ipython3",
   "version": "3.8.8"
  }
 },
 "nbformat": 4,
 "nbformat_minor": 5
}
